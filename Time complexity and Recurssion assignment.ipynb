{
 "cells": [
  {
   "cell_type": "markdown",
   "id": "06aeb622-ed80-42c9-8775-6d2fceeed48e",
   "metadata": {},
   "source": [
    "#1)\n",
    "Time Complexity : O(n^2)"
   ]
  },
  {
   "cell_type": "markdown",
   "id": "0053a3f8-1d51-415a-bcf4-1bc2a6b68723",
   "metadata": {},
   "source": [
    "#2)\n",
    "Time Complexity : O(n*m)"
   ]
  },
  {
   "cell_type": "markdown",
   "id": "96ebae90-aecf-44f5-a60d-9549159564c6",
   "metadata": {},
   "source": [
    "#3)\n",
    "Tme Complexity : O(n)"
   ]
  },
  {
   "cell_type": "markdown",
   "id": "5cae2531-443c-434c-9603-da2fcaa558a9",
   "metadata": {},
   "source": [
    "#4) \n",
    "Time Complexity : O(n^2)"
   ]
  },
  {
   "cell_type": "markdown",
   "id": "4db588f0-023e-4f66-bbd3-4551269bcdb2",
   "metadata": {},
   "source": [
    "#5) \n",
    "Time Complexity : O(n^2)"
   ]
  },
  {
   "cell_type": "code",
   "execution_count": 3,
   "id": "bb42cac8-cdb2-447d-a8f1-76faafeb8f47",
   "metadata": {},
   "outputs": [
    {
     "name": "stdout",
     "output_type": "stream",
     "text": [
      "Result : 6\n"
     ]
    }
   ],
   "source": [
    "#6)\n",
    "def sum_of_digits(n):\n",
    "\n",
    "    if n < 10:\n",
    "        return n\n",
    "    else:\n",
    "\n",
    "        return n % 10 + sum_of_digits(n // 10)\n",
    "\n",
    "result = sum_of_digits(123)\n",
    "print(\"Result :\",result)"
   ]
  },
  {
   "cell_type": "code",
   "execution_count": 17,
   "id": "c6bf5799-0b3d-4691-ab92-1f9e972b5cd3",
   "metadata": {},
   "outputs": [
    {
     "name": "stdout",
     "output_type": "stream",
     "text": [
      "Result : [0, 1, 1, 2, 3, 5]\n"
     ]
    }
   ],
   "source": [
    "#7)\n",
    "def fibonacci_series(n):\n",
    "    if n <= 0:\n",
    "        return []\n",
    "    elif n == 1:\n",
    "        return [0]\n",
    "    elif n == 2:\n",
    "        return [0, 1]\n",
    "    else:\n",
    "        \n",
    "        series = fibonacci_series(n - 1)\n",
    "        series.append(series[-1] + series[-2])\n",
    "        return series\n",
    "\n",
    "result = fibonacci_series(6)\n",
    "print(\"Result :\",result)"
   ]
  },
  {
   "cell_type": "code",
   "execution_count": 20,
   "id": "c9f06345-7d1b-4b29-8b13-1c70616a0b09",
   "metadata": {},
   "outputs": [
    {
     "name": "stdout",
     "output_type": "stream",
     "text": [
      "Result : True\n"
     ]
    }
   ],
   "source": [
    "#8)\n",
    "def subset_sum(nums, target_sum, index=None):\n",
    "    if index is None:\n",
    "        index = len(nums) - 1\n",
    "    if target_sum == 0:\n",
    "        return True\n",
    "    if target_sum < 0 or index < 0:\n",
    "        return False\n",
    "    include_current = subset_sum(nums, target_sum - nums[index], index - 1)\n",
    "    exclude_current = subset_sum(nums, target_sum, index - 1)\n",
    "    return include_current or exclude_current\n",
    "numbers = [3, 34, 4, 12, 5, 2]\n",
    "target_sum = 9\n",
    "result = subset_sum(numbers, target_sum)\n",
    "print(\"Result :\", result)"
   ]
  },
  {
   "cell_type": "code",
   "execution_count": 19,
   "id": "12e69989-37fe-45f3-9d1b-69c1b9caa95f",
   "metadata": {},
   "outputs": [
    {
     "name": "stdout",
     "output_type": "stream",
     "text": [
      "Result : True\n"
     ]
    }
   ],
   "source": [
    "#9)\n",
    "def word_break(s, word_dict):\n",
    "    \n",
    "    if not s:\n",
    "        return True\n",
    "\n",
    "    for i in range(1, len(s) + 1):\n",
    "        prefix = s[:i]\n",
    "\n",
    "        if prefix in word_dict and word_break(s[i:], word_dict):\n",
    "            return True\n",
    "\n",
    "    return False\n",
    "\n",
    "s = \"leetcode\"\n",
    "word_dict = [\"leet\", \"code\"]\n",
    "result = word_break(s, word_dict)\n",
    "print(\"Result :\",result)  # Output: True"
   ]
  },
  {
   "cell_type": "code",
   "execution_count": 23,
   "id": "d270e345-0160-4cd5-b0cc-48cf2ad75d5d",
   "metadata": {},
   "outputs": [
    {
     "name": "stdout",
     "output_type": "stream",
     "text": [
      "['.Q..', '...Q', 'Q...', '..Q.']\n",
      "['..Q.', 'Q...', '...Q', '.Q..']\n"
     ]
    }
   ],
   "source": [
    "#10)\n",
    "def is_safe(board, row, col, n):\n",
    "    for i in range(row):\n",
    "        if board[i][col] == 'Q':\n",
    "            return False\n",
    "    for i, j in zip(range(row, -1, -1), range(col, -1, -1)):\n",
    "        if board[i][j] == 'Q':\n",
    "            return False\n",
    "    for i, j in zip(range(row, -1, -1), range(col, n)):\n",
    "        if board[i][j] == 'Q':\n",
    "            return False\n",
    "\n",
    "    return True\n",
    "\n",
    "def solve_n_queens_util(board, row, n, result):\n",
    "    if row == n:\n",
    "        result.append([\"\".join(row) for row in board])\n",
    "        return\n",
    "\n",
    "    for col in range(n):\n",
    "        if is_safe(board, row, col, n):\n",
    "            board[row][col] = 'Q'\n",
    "            solve_n_queens_util(board, row + 1, n, result)\n",
    "            board[row][col] = '.'\n",
    "\n",
    "def solve_n_queens(n):\n",
    "    board = [['.' for _ in range(n)] for _ in range(n)]\n",
    "    result = []\n",
    "    solve_n_queens_util(board, 0, n, result)\n",
    "    return result\n",
    "n = 4\n",
    "output = solve_n_queens(n)\n",
    "for solution in output:\n",
    "    print(solution)"
   ]
  }
 ],
 "metadata": {
  "kernelspec": {
   "display_name": "Python 3 (ipykernel)",
   "language": "python",
   "name": "python3"
  },
  "language_info": {
   "codemirror_mode": {
    "name": "ipython",
    "version": 3
   },
   "file_extension": ".py",
   "mimetype": "text/x-python",
   "name": "python",
   "nbconvert_exporter": "python",
   "pygments_lexer": "ipython3",
   "version": "3.10.8"
  }
 },
 "nbformat": 4,
 "nbformat_minor": 5
}
